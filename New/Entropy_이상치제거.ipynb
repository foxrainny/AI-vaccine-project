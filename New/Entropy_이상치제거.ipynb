{
 "cells": [
  {
   "cell_type": "code",
   "execution_count": null,
   "metadata": {},
   "outputs": [],
   "source": [
    "# importing modules\n",
    "import numpy as np\n",
    "from sklearn.preprocessing import StandardScaler, RobustScaler\n",
    "import matplotlib.pyplot as plt\n",
    "import pandas as pd\n",
    "\n"
   ]
  },
  {
   "cell_type": "code",
   "execution_count": 2,
   "metadata": {},
   "outputs": [
    {
     "name": "stdout",
     "output_type": "stream",
     "text": [
      "(9812, 25)\n"
     ]
    }
   ],
   "source": [
    "training_data = np.genfromtxt('test.csv', delimiter=',', \\\n",
    "                             dtype=np.int32)\n",
    "\n",
    "print( np.shape(training_data))"
   ]
  },
  {
   "cell_type": "code",
   "execution_count": 3,
   "metadata": {},
   "outputs": [],
   "source": [
    "df = pd.read_csv('./test.csv')"
   ]
  },
  {
   "cell_type": "code",
   "execution_count": 4,
   "metadata": {},
   "outputs": [
    {
     "data": {
      "text/html": [
       "<div>\n",
       "<style scoped>\n",
       "    .dataframe tbody tr th:only-of-type {\n",
       "        vertical-align: middle;\n",
       "    }\n",
       "\n",
       "    .dataframe tbody tr th {\n",
       "        vertical-align: top;\n",
       "    }\n",
       "\n",
       "    .dataframe thead th {\n",
       "        text-align: right;\n",
       "    }\n",
       "</style>\n",
       "<table border=\"1\" class=\"dataframe\">\n",
       "  <thead>\n",
       "    <tr style=\"text-align: right;\">\n",
       "      <th></th>\n",
       "      <th>FileName</th>\n",
       "      <th>Hash</th>\n",
       "      <th>FileSize</th>\n",
       "      <th>Entropy</th>\n",
       "      <th>IAT_Ratio</th>\n",
       "      <th>Section_corrupt</th>\n",
       "      <th>EntryPoint</th>\n",
       "      <th>Malware</th>\n",
       "      <th>DLL_Ch1</th>\n",
       "      <th>DLL_Ch2</th>\n",
       "      <th>...</th>\n",
       "      <th>DLL_Ch8</th>\n",
       "      <th>DLL_Ch9</th>\n",
       "      <th>DLL_Ch10</th>\n",
       "      <th>DLL_Ch11</th>\n",
       "      <th>DLL_Ch12</th>\n",
       "      <th>DLL_Ch13</th>\n",
       "      <th>DLL_Ch14</th>\n",
       "      <th>DLL_Ch15</th>\n",
       "      <th>DLL_Ch16</th>\n",
       "      <th>DLL_Ch17</th>\n",
       "    </tr>\n",
       "  </thead>\n",
       "  <tbody>\n",
       "    <tr>\n",
       "      <th>0</th>\n",
       "      <td>0006f3982fbb13c7fa97f4fffbfead51.vir</td>\n",
       "      <td>0006f3982fbb13c7fa97f4fffbfead51</td>\n",
       "      <td>1571844</td>\n",
       "      <td>7.994200</td>\n",
       "      <td>0.500000</td>\n",
       "      <td>1</td>\n",
       "      <td>15750</td>\n",
       "      <td>1</td>\n",
       "      <td>1</td>\n",
       "      <td>0</td>\n",
       "      <td>...</td>\n",
       "      <td>0</td>\n",
       "      <td>0</td>\n",
       "      <td>0</td>\n",
       "      <td>0</td>\n",
       "      <td>0</td>\n",
       "      <td>0</td>\n",
       "      <td>0</td>\n",
       "      <td>0</td>\n",
       "      <td>0</td>\n",
       "      <td>0</td>\n",
       "    </tr>\n",
       "    <tr>\n",
       "      <th>1</th>\n",
       "      <td>000cf7d1523400b8304ea515f5447dc7.vir</td>\n",
       "      <td>000cf7d1523400b8304ea515f5447dc7</td>\n",
       "      <td>949252</td>\n",
       "      <td>6.390259</td>\n",
       "      <td>0.057143</td>\n",
       "      <td>1</td>\n",
       "      <td>4736</td>\n",
       "      <td>0</td>\n",
       "      <td>1</td>\n",
       "      <td>0</td>\n",
       "      <td>...</td>\n",
       "      <td>0</td>\n",
       "      <td>0</td>\n",
       "      <td>0</td>\n",
       "      <td>0</td>\n",
       "      <td>0</td>\n",
       "      <td>0</td>\n",
       "      <td>0</td>\n",
       "      <td>0</td>\n",
       "      <td>0</td>\n",
       "      <td>0</td>\n",
       "    </tr>\n",
       "    <tr>\n",
       "      <th>2</th>\n",
       "      <td>0012ec11ae56e37e35232738e756cab2.vir</td>\n",
       "      <td>0012ec11ae56e37e35232738e756cab2</td>\n",
       "      <td>174788</td>\n",
       "      <td>6.445913</td>\n",
       "      <td>0.234043</td>\n",
       "      <td>0</td>\n",
       "      <td>47963</td>\n",
       "      <td>1</td>\n",
       "      <td>1</td>\n",
       "      <td>0</td>\n",
       "      <td>...</td>\n",
       "      <td>1</td>\n",
       "      <td>0</td>\n",
       "      <td>1</td>\n",
       "      <td>0</td>\n",
       "      <td>0</td>\n",
       "      <td>0</td>\n",
       "      <td>0</td>\n",
       "      <td>0</td>\n",
       "      <td>0</td>\n",
       "      <td>1</td>\n",
       "    </tr>\n",
       "    <tr>\n",
       "      <th>3</th>\n",
       "      <td>001736ee23846c570990c58a6381cf71.vir</td>\n",
       "      <td>001736ee23846c570990c58a6381cf71</td>\n",
       "      <td>24580</td>\n",
       "      <td>2.775063</td>\n",
       "      <td>0.000000</td>\n",
       "      <td>0</td>\n",
       "      <td>4688</td>\n",
       "      <td>0</td>\n",
       "      <td>1</td>\n",
       "      <td>0</td>\n",
       "      <td>...</td>\n",
       "      <td>0</td>\n",
       "      <td>0</td>\n",
       "      <td>0</td>\n",
       "      <td>0</td>\n",
       "      <td>0</td>\n",
       "      <td>0</td>\n",
       "      <td>0</td>\n",
       "      <td>0</td>\n",
       "      <td>0</td>\n",
       "      <td>0</td>\n",
       "    </tr>\n",
       "    <tr>\n",
       "      <th>4</th>\n",
       "      <td>0035ff4b444acf489b847debae81fc0c.vir</td>\n",
       "      <td>0035ff4b444acf489b847debae81fc0c</td>\n",
       "      <td>722089</td>\n",
       "      <td>6.508731</td>\n",
       "      <td>0.138823</td>\n",
       "      <td>1</td>\n",
       "      <td>623992</td>\n",
       "      <td>0</td>\n",
       "      <td>1</td>\n",
       "      <td>0</td>\n",
       "      <td>...</td>\n",
       "      <td>0</td>\n",
       "      <td>0</td>\n",
       "      <td>0</td>\n",
       "      <td>0</td>\n",
       "      <td>0</td>\n",
       "      <td>0</td>\n",
       "      <td>0</td>\n",
       "      <td>0</td>\n",
       "      <td>0</td>\n",
       "      <td>1</td>\n",
       "    </tr>\n",
       "    <tr>\n",
       "      <th>...</th>\n",
       "      <td>...</td>\n",
       "      <td>...</td>\n",
       "      <td>...</td>\n",
       "      <td>...</td>\n",
       "      <td>...</td>\n",
       "      <td>...</td>\n",
       "      <td>...</td>\n",
       "      <td>...</td>\n",
       "      <td>...</td>\n",
       "      <td>...</td>\n",
       "      <td>...</td>\n",
       "      <td>...</td>\n",
       "      <td>...</td>\n",
       "      <td>...</td>\n",
       "      <td>...</td>\n",
       "      <td>...</td>\n",
       "      <td>...</td>\n",
       "      <td>...</td>\n",
       "      <td>...</td>\n",
       "      <td>...</td>\n",
       "      <td>...</td>\n",
       "    </tr>\n",
       "    <tr>\n",
       "      <th>9806</th>\n",
       "      <td>fff621af41a168882551b8a5d0e972b8.vir</td>\n",
       "      <td>fff621af41a168882551b8a5d0e972b8</td>\n",
       "      <td>727556</td>\n",
       "      <td>7.907775</td>\n",
       "      <td>0.137803</td>\n",
       "      <td>1</td>\n",
       "      <td>1717125</td>\n",
       "      <td>1</td>\n",
       "      <td>1</td>\n",
       "      <td>0</td>\n",
       "      <td>...</td>\n",
       "      <td>1</td>\n",
       "      <td>0</td>\n",
       "      <td>1</td>\n",
       "      <td>0</td>\n",
       "      <td>0</td>\n",
       "      <td>0</td>\n",
       "      <td>0</td>\n",
       "      <td>0</td>\n",
       "      <td>0</td>\n",
       "      <td>1</td>\n",
       "    </tr>\n",
       "    <tr>\n",
       "      <th>9807</th>\n",
       "      <td>fff8ef9b45bbcb8aca7cb6acdef7d4ba.vir</td>\n",
       "      <td>fff8ef9b45bbcb8aca7cb6acdef7d4ba</td>\n",
       "      <td>1038484</td>\n",
       "      <td>6.812177</td>\n",
       "      <td>0.139535</td>\n",
       "      <td>1</td>\n",
       "      <td>5320</td>\n",
       "      <td>1</td>\n",
       "      <td>1</td>\n",
       "      <td>0</td>\n",
       "      <td>...</td>\n",
       "      <td>0</td>\n",
       "      <td>0</td>\n",
       "      <td>0</td>\n",
       "      <td>0</td>\n",
       "      <td>0</td>\n",
       "      <td>0</td>\n",
       "      <td>0</td>\n",
       "      <td>0</td>\n",
       "      <td>0</td>\n",
       "      <td>0</td>\n",
       "    </tr>\n",
       "    <tr>\n",
       "      <th>9808</th>\n",
       "      <td>fff9386da527b906206963e396324919.vir</td>\n",
       "      <td>fff9386da527b906206963e396324919</td>\n",
       "      <td>680212</td>\n",
       "      <td>6.521871</td>\n",
       "      <td>0.021186</td>\n",
       "      <td>0</td>\n",
       "      <td>391438</td>\n",
       "      <td>0</td>\n",
       "      <td>1</td>\n",
       "      <td>0</td>\n",
       "      <td>...</td>\n",
       "      <td>1</td>\n",
       "      <td>0</td>\n",
       "      <td>1</td>\n",
       "      <td>0</td>\n",
       "      <td>0</td>\n",
       "      <td>0</td>\n",
       "      <td>0</td>\n",
       "      <td>0</td>\n",
       "      <td>0</td>\n",
       "      <td>0</td>\n",
       "    </tr>\n",
       "    <tr>\n",
       "      <th>9809</th>\n",
       "      <td>fff98fa462275f7c265321ba4439942c.vir</td>\n",
       "      <td>fff98fa462275f7c265321ba4439942c</td>\n",
       "      <td>1155080</td>\n",
       "      <td>3.619136</td>\n",
       "      <td>0.000000</td>\n",
       "      <td>0</td>\n",
       "      <td>1011678</td>\n",
       "      <td>1</td>\n",
       "      <td>1</td>\n",
       "      <td>0</td>\n",
       "      <td>...</td>\n",
       "      <td>1</td>\n",
       "      <td>0</td>\n",
       "      <td>1</td>\n",
       "      <td>0</td>\n",
       "      <td>1</td>\n",
       "      <td>0</td>\n",
       "      <td>0</td>\n",
       "      <td>0</td>\n",
       "      <td>0</td>\n",
       "      <td>0</td>\n",
       "    </tr>\n",
       "    <tr>\n",
       "      <th>9810</th>\n",
       "      <td>fffdf31ec1c19886cc372ad0657f8856.vir</td>\n",
       "      <td>fffdf31ec1c19886cc372ad0657f8856</td>\n",
       "      <td>177714</td>\n",
       "      <td>7.511730</td>\n",
       "      <td>0.298507</td>\n",
       "      <td>0</td>\n",
       "      <td>25692</td>\n",
       "      <td>1</td>\n",
       "      <td>1</td>\n",
       "      <td>0</td>\n",
       "      <td>...</td>\n",
       "      <td>0</td>\n",
       "      <td>0</td>\n",
       "      <td>0</td>\n",
       "      <td>0</td>\n",
       "      <td>1</td>\n",
       "      <td>0</td>\n",
       "      <td>0</td>\n",
       "      <td>0</td>\n",
       "      <td>0</td>\n",
       "      <td>1</td>\n",
       "    </tr>\n",
       "  </tbody>\n",
       "</table>\n",
       "<p>9811 rows × 25 columns</p>\n",
       "</div>"
      ],
      "text/plain": [
       "                                  FileName                              Hash  \\\n",
       "0     0006f3982fbb13c7fa97f4fffbfead51.vir  0006f3982fbb13c7fa97f4fffbfead51   \n",
       "1     000cf7d1523400b8304ea515f5447dc7.vir  000cf7d1523400b8304ea515f5447dc7   \n",
       "2     0012ec11ae56e37e35232738e756cab2.vir  0012ec11ae56e37e35232738e756cab2   \n",
       "3     001736ee23846c570990c58a6381cf71.vir  001736ee23846c570990c58a6381cf71   \n",
       "4     0035ff4b444acf489b847debae81fc0c.vir  0035ff4b444acf489b847debae81fc0c   \n",
       "...                                    ...                               ...   \n",
       "9806  fff621af41a168882551b8a5d0e972b8.vir  fff621af41a168882551b8a5d0e972b8   \n",
       "9807  fff8ef9b45bbcb8aca7cb6acdef7d4ba.vir  fff8ef9b45bbcb8aca7cb6acdef7d4ba   \n",
       "9808  fff9386da527b906206963e396324919.vir  fff9386da527b906206963e396324919   \n",
       "9809  fff98fa462275f7c265321ba4439942c.vir  fff98fa462275f7c265321ba4439942c   \n",
       "9810  fffdf31ec1c19886cc372ad0657f8856.vir  fffdf31ec1c19886cc372ad0657f8856   \n",
       "\n",
       "      FileSize   Entropy  IAT_Ratio  Section_corrupt  EntryPoint  Malware  \\\n",
       "0      1571844  7.994200   0.500000                1       15750        1   \n",
       "1       949252  6.390259   0.057143                1        4736        0   \n",
       "2       174788  6.445913   0.234043                0       47963        1   \n",
       "3        24580  2.775063   0.000000                0        4688        0   \n",
       "4       722089  6.508731   0.138823                1      623992        0   \n",
       "...        ...       ...        ...              ...         ...      ...   \n",
       "9806    727556  7.907775   0.137803                1     1717125        1   \n",
       "9807   1038484  6.812177   0.139535                1        5320        1   \n",
       "9808    680212  6.521871   0.021186                0      391438        0   \n",
       "9809   1155080  3.619136   0.000000                0     1011678        1   \n",
       "9810    177714  7.511730   0.298507                0       25692        1   \n",
       "\n",
       "      DLL_Ch1  DLL_Ch2  ...  DLL_Ch8  DLL_Ch9  DLL_Ch10  DLL_Ch11  DLL_Ch12  \\\n",
       "0           1        0  ...        0        0         0         0         0   \n",
       "1           1        0  ...        0        0         0         0         0   \n",
       "2           1        0  ...        1        0         1         0         0   \n",
       "3           1        0  ...        0        0         0         0         0   \n",
       "4           1        0  ...        0        0         0         0         0   \n",
       "...       ...      ...  ...      ...      ...       ...       ...       ...   \n",
       "9806        1        0  ...        1        0         1         0         0   \n",
       "9807        1        0  ...        0        0         0         0         0   \n",
       "9808        1        0  ...        1        0         1         0         0   \n",
       "9809        1        0  ...        1        0         1         0         1   \n",
       "9810        1        0  ...        0        0         0         0         1   \n",
       "\n",
       "      DLL_Ch13  DLL_Ch14  DLL_Ch15  DLL_Ch16  DLL_Ch17  \n",
       "0            0         0         0         0         0  \n",
       "1            0         0         0         0         0  \n",
       "2            0         0         0         0         1  \n",
       "3            0         0         0         0         0  \n",
       "4            0         0         0         0         1  \n",
       "...        ...       ...       ...       ...       ...  \n",
       "9806         0         0         0         0         1  \n",
       "9807         0         0         0         0         0  \n",
       "9808         0         0         0         0         0  \n",
       "9809         0         0         0         0         0  \n",
       "9810         0         0         0         0         1  \n",
       "\n",
       "[9811 rows x 25 columns]"
      ]
     },
     "execution_count": 4,
     "metadata": {},
     "output_type": "execute_result"
    }
   ],
   "source": [
    "df"
   ]
  },
  {
   "cell_type": "code",
   "execution_count": 6,
   "metadata": {},
   "outputs": [],
   "source": [
    "Entropy = df.Entropy"
   ]
  },
  {
   "cell_type": "code",
   "execution_count": 7,
   "metadata": {},
   "outputs": [
    {
     "data": {
      "text/plain": [
       "(array([  1.,   3.,   0.,   1.,  17.,   4.,   2.,   3.,   4.,   6.,   4.,\n",
       "          5.,  16.,  41.,  31.,  10.,   3.,   6.,  14.,   4.,  11.,   7.,\n",
       "         21.,   6.,  10.,  60.,  15.,  68.,  56.,  17.,  44.,  61.,  21.,\n",
       "         42.,  53.,  50.,  65.,  38.,  39.,  51.,  56., 119.,  63.,  44.,\n",
       "         76.,  61.,  67.,  95., 139., 199., 111., 104., 108., 150., 205.,\n",
       "        172., 154., 222., 219., 205., 274., 285., 358., 476., 422., 429.,\n",
       "        291., 252., 357., 422., 187., 187., 179., 133., 182., 206., 200.,\n",
       "        315., 392.]),\n",
       " array([0. , 0.1, 0.2, 0.3, 0.4, 0.5, 0.6, 0.7, 0.8, 0.9, 1. , 1.1, 1.2,\n",
       "        1.3, 1.4, 1.5, 1.6, 1.7, 1.8, 1.9, 2. , 2.1, 2.2, 2.3, 2.4, 2.5,\n",
       "        2.6, 2.7, 2.8, 2.9, 3. , 3.1, 3.2, 3.3, 3.4, 3.5, 3.6, 3.7, 3.8,\n",
       "        3.9, 4. , 4.1, 4.2, 4.3, 4.4, 4.5, 4.6, 4.7, 4.8, 4.9, 5. , 5.1,\n",
       "        5.2, 5.3, 5.4, 5.5, 5.6, 5.7, 5.8, 5.9, 6. , 6.1, 6.2, 6.3, 6.4,\n",
       "        6.5, 6.6, 6.7, 6.8, 6.9, 7. , 7.1, 7.2, 7.3, 7.4, 7.5, 7.6, 7.7,\n",
       "        7.8, 7.9]),\n",
       " <a list of 79 Patch objects>)"
      ]
     },
     "execution_count": 7,
     "metadata": {},
     "output_type": "execute_result"
    },
    {
     "data": {
      "image/png": "[encoded data removed]",
      "text/plain": [
       "<Figure size 432x288 with 1 Axes>"
      ]
     },
     "metadata": {
      "needs_background": "light"
     },
     "output_type": "display_data"
    }
   ],
   "source": [
    "#정제되기전 Entropy 값\n",
    "plt.hist(Entropy, bins=np.arange(0, 8, 0.1))"
   ]
  },
  {
   "cell_type": "code",
   "execution_count": 8,
   "metadata": {},
   "outputs": [
    {
     "data": {
      "text/plain": [
       "{'whiskers': [<matplotlib.lines.Line2D at 0x1a91c3f3b48>,\n",
       "  <matplotlib.lines.Line2D at 0x1a91c3f3548>],\n",
       " 'caps': [<matplotlib.lines.Line2D at 0x1a91c3f8e08>,\n",
       "  <matplotlib.lines.Line2D at 0x1a91c3f8f48>],\n",
       " 'boxes': [<matplotlib.lines.Line2D at 0x1a91c3f32c8>],\n",
       " 'medians': [<matplotlib.lines.Line2D at 0x1a91c3f8fc8>],\n",
       " 'fliers': [<matplotlib.lines.Line2D at 0x1a91c3fcec8>],\n",
       " 'means': []}"
      ]
     },
     "execution_count": 8,
     "metadata": {},
     "output_type": "execute_result"
    },
    {
     "data": {
      "image/png": "[encoded data removed]",
      "text/plain": [
       "<Figure size 432x288 with 1 Axes>"
      ]
     },
     "metadata": {
      "needs_background": "light"
     },
     "output_type": "display_data"
    }
   ],
   "source": [
    "plt.boxplot(Entropy)"
   ]
  },
  {
   "cell_type": "code",
   "execution_count": 9,
   "metadata": {},
   "outputs": [],
   "source": [
    "mean =np.mean(Entropy)\n",
    "std = np.std(Entropy)"
   ]
  },
  {
   "cell_type": "code",
   "execution_count": 18,
   "metadata": {},
   "outputs": [],
   "source": [
    "# 제거된 극단치값 가져오기\n",
    "def outlier_list(series):\n",
    "    b = series.index\n",
    "    a = b +2\n",
    "    \n",
    "    out_list = pd.Series(series.values, a)\n",
    "    return out_list"
   ]
  },
  {
   "cell_type": "code",
   "execution_count": 11,
   "metadata": {},
   "outputs": [],
   "source": [
    "# 극단치가 아래에 있으므로 아래 값만 지운다.\n",
    "def remove_lowest_outlier(series):\n",
    "    x = series\n",
    "    q1 = np.percentile(x, 25)\n",
    "    q3 = np.percentile(x, 75)\n",
    "    \n",
    "    iqr = q3 - q1\n",
    "    lowest = q1 - (iqr * 1.5)\n",
    "    highest = q3 + (iqr * 1.5)\n",
    "    #제거할 극단치\n",
    "    out_series = x[(x < lowest)]\n",
    "    \n",
    "    outlier_index = x[( x < lowest)].index\n",
    "    print(len(outlier_index))\n",
    "    x.drop(outlier_index, axis =0, inplace=True)\n",
    "    print(x.shape)\n",
    "    \n",
    "    \n",
    "    print(\"lowest : \",lowest)\n",
    "    \n",
    "    print(\"q1 : \", q1)\n",
    "    print(\"q3 : \", q3)\n",
    "    return x, out_series"
   ]
  },
  {
   "cell_type": "code",
   "execution_count": 12,
   "metadata": {},
   "outputs": [
    {
     "name": "stdout",
     "output_type": "stream",
     "text": [
      "430\n",
      "(9381,)\n",
      "lowest :  2.9041806802681824\n",
      "q1 :  5.470307675475844\n",
      "q3 :  7.181059005614285\n"
     ]
    }
   ],
   "source": [
    "out_entropy, out_series = remove_lowest_outlier(Entropy)"
   ]
  },
  {
   "cell_type": "code",
   "execution_count": 14,
   "metadata": {},
   "outputs": [
    {
     "data": {
      "text/plain": [
       "3       2.775063\n",
       "8       1.511349\n",
       "55      1.419146\n",
       "71      0.994299\n",
       "79      0.788402\n",
       "          ...   \n",
       "9745    1.318163\n",
       "9765    0.494093\n",
       "9780    2.514631\n",
       "9789    2.767740\n",
       "9793    2.516825\n",
       "Name: Entropy, Length: 430, dtype: float64"
      ]
     },
     "execution_count": 14,
     "metadata": {},
     "output_type": "execute_result"
    }
   ],
   "source": [
    "out_series"
   ]
  },
  {
   "cell_type": "code",
   "execution_count": 15,
   "metadata": {},
   "outputs": [
    {
     "data": {
      "text/plain": [
       "{'whiskers': [<matplotlib.lines.Line2D at 0x1a91c475548>,\n",
       "  <matplotlib.lines.Line2D at 0x1a91c486b08>],\n",
       " 'caps': [<matplotlib.lines.Line2D at 0x1a91c486fc8>,\n",
       "  <matplotlib.lines.Line2D at 0x1a91c486cc8>],\n",
       " 'boxes': [<matplotlib.lines.Line2D at 0x1a91c47efc8>],\n",
       " 'medians': [<matplotlib.lines.Line2D at 0x1a91c48c9c8>],\n",
       " 'fliers': [<matplotlib.lines.Line2D at 0x1a91c48ce88>],\n",
       " 'means': []}"
      ]
     },
     "execution_count": 15,
     "metadata": {},
     "output_type": "execute_result"
    },
    {
     "data": {
      "image/png": "[encoded data removed]",
      "text/plain": [
       "<Figure size 432x288 with 1 Axes>"
      ]
     },
     "metadata": {
      "needs_background": "light"
     },
     "output_type": "display_data"
    }
   ],
   "source": [
    "# 극단치가 제거된 boxplot\n",
    "plt.boxplot(out_entropy)"
   ]
  },
  {
   "cell_type": "code",
   "execution_count": 19,
   "metadata": {},
   "outputs": [],
   "source": [
    "new_out_series = outlier_list(out_series)"
   ]
  },
  {
   "cell_type": "code",
   "execution_count": 20,
   "metadata": {},
   "outputs": [
    {
     "data": {
      "text/plain": [
       "5       2.775063\n",
       "10      1.511349\n",
       "57      1.419146\n",
       "73      0.994299\n",
       "81      0.788402\n",
       "          ...   \n",
       "9747    1.318163\n",
       "9767    0.494093\n",
       "9782    2.514631\n",
       "9791    2.767740\n",
       "9795    2.516825\n",
       "Length: 430, dtype: float64"
      ]
     },
     "execution_count": 20,
     "metadata": {},
     "output_type": "execute_result"
    }
   ],
   "source": [
    "new_out_series"
   ]
  },
  {
   "cell_type": "code",
   "execution_count": null,
   "metadata": {},
   "outputs": [],
   "source": []
  }
 ],
 "metadata": {
  "kernelspec": {
   "display_name": "test",
   "language": "python",
   "name": "test"
  },
  "language_info": {
   "codemirror_mode": {
    "name": "ipython",
    "version": 3
   },
   "file_extension": ".py",
   "mimetype": "text/x-python",
   "name": "python",
   "nbconvert_exporter": "python",
   "pygments_lexer": "ipython3",
   "version": "3.7.7"
  }
 },
 "nbformat": 4,
 "nbformat_minor": 4
}
